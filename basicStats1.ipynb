{
 "cells": [
  {
   "cell_type": "code",
   "execution_count": 1,
   "id": "aad8bfe6-901c-45bf-a229-029f297ef2e8",
   "metadata": {},
   "outputs": [
    {
     "data": {
      "text/plain": [
       "'\\nQ1)  What is Statistics?\\nAns- Stats is the science of organising , summarizing and analysing the data\\n'"
      ]
     },
     "execution_count": 1,
     "metadata": {},
     "output_type": "execute_result"
    }
   ],
   "source": [
    "\"\"\"\n",
    "Q1)  What is Statistics?\n",
    "Ans- Stats is the science of organising , summarizing and analysing the data\n",
    "\"\"\""
   ]
  },
  {
   "cell_type": "code",
   "execution_count": 2,
   "id": "dbd538bd-b6eb-4909-83ec-e5604fd05814",
   "metadata": {},
   "outputs": [
    {
     "data": {
      "text/plain": [
       "'\\nQ2. Define the different types of statistics and give an example of when each type might be used\\nAns- \\n\\nTypes of stats -\\n\\n-> Descriptive \\n-> Inferential \\n\\n'"
      ]
     },
     "execution_count": 2,
     "metadata": {},
     "output_type": "execute_result"
    }
   ],
   "source": [
    "\"\"\"\n",
    "Q2. Define the different types of statistics and give an example of when each type might be used\n",
    "Ans- \n",
    "\n",
    "Types of stats -\n",
    "\n",
    "-> Descriptive \n",
    "-> Inferential \n",
    "\n",
    "\"\"\""
   ]
  },
  {
   "cell_type": "code",
   "execution_count": 3,
   "id": "5b1d6328-07c2-41aa-bd42-08f38ce1cec4",
   "metadata": {},
   "outputs": [
    {
     "data": {
      "text/plain": [
       "'\\nQ3.  What are the different types of data and how do they differ from each other? \\nAns-> Diffrent types of data ->\\n1) Qualitative\\n2) Quantitative\\n'"
      ]
     },
     "execution_count": 3,
     "metadata": {},
     "output_type": "execute_result"
    }
   ],
   "source": [
    "\"\"\"\n",
    "Q3.  What are the different types of data and how do they differ from each other? \n",
    "Ans-> Diffrent types of data ->\n",
    "1) Qualitative\n",
    "2) Quantitative\n",
    "\"\"\""
   ]
  },
  {
   "cell_type": "code",
   "execution_count": 4,
   "id": "7d75b2e8-ff8f-4a6f-97a8-ca59a6563286",
   "metadata": {},
   "outputs": [
    {
     "data": {
      "text/plain": [
       "'\\nQ4. Categorise the following datasets with respect to quantitative and qualitative data types:\\n\\n(i)\\tGrading in exam: A+, A, B+, B, C+, C, D, E\\nAns- Quantitative\\n\\n(ii)\\tColour of mangoes: yellow, green, orange, red\\nAns- Qualitative \\n\\n(iii)\\tHeight data of a class: [178.9, 179, 179.5, 176, 177.2, 178.3, 175.8,...]\\nAns - Quantitative\\n\\n(iv)\\tNumber of mangoes exported by a farm: [500, 600, 478, 672, …]\\nAns -  Quanlitative\\n'"
      ]
     },
     "execution_count": 4,
     "metadata": {},
     "output_type": "execute_result"
    }
   ],
   "source": [
    "\"\"\"\n",
    "Q4. Categorise the following datasets with respect to quantitative and qualitative data types:\n",
    "\n",
    "(i)\tGrading in exam: A+, A, B+, B, C+, C, D, E\n",
    "Ans- Quantitative\n",
    "\n",
    "(ii)\tColour of mangoes: yellow, green, orange, red\n",
    "Ans- Qualitative \n",
    "\n",
    "(iii)\tHeight data of a class: [178.9, 179, 179.5, 176, 177.2, 178.3, 175.8,...]\n",
    "Ans - Quantitative\n",
    "\n",
    "(iv)\tNumber of mangoes exported by a farm: [500, 600, 478, 672, …]\n",
    "Ans -  Quanlitative\n",
    "\"\"\""
   ]
  },
  {
   "cell_type": "code",
   "execution_count": 5,
   "id": "2e91ca9a-8e53-406c-8151-214db8349a8f",
   "metadata": {},
   "outputs": [
    {
     "data": {
      "text/plain": [
       "'\\nQ5. Explain the concept of levels of measurement and give an example of a variable for each level.\\nAns - > \\n1) Nominal\\nCan not arranged in order\\n2) Ordinal\\nCan be arranged in order\\n3) Interval\\nData at this level have consistent intervals between consecutive values, but there is no true zero point.\\n4) Ratio\\nData at this level have consistent intervals between consecutive values, but there is a true zero point.\\n'"
      ]
     },
     "execution_count": 5,
     "metadata": {},
     "output_type": "execute_result"
    }
   ],
   "source": [
    "\"\"\"\n",
    "Q5. Explain the concept of levels of measurement and give an example of a variable for each level.\n",
    "Ans - > \n",
    "1) Nominal\n",
    "Can not arranged in order\n",
    "2) Ordinal\n",
    "Can be arranged in order\n",
    "3) Interval\n",
    "Data at this level have consistent intervals between consecutive values, but there is no true zero point.\n",
    "4) Ratio\n",
    "Data at this level have consistent intervals between consecutive values, but there is a true zero point.\n",
    "\"\"\""
   ]
  },
  {
   "cell_type": "code",
   "execution_count": 6,
   "id": "0c303649-9ca7-4c3c-bb9b-348ca28ee6a1",
   "metadata": {},
   "outputs": [
    {
     "data": {
      "text/plain": [
       "'\\nQ6. Why is it important to understand the level of measurement when analyzing data?\\nAns -> Whenever we require to clean data or have to plot visual at that time we need the \\nunderstanding of the level of measurement.\\n'"
      ]
     },
     "execution_count": 6,
     "metadata": {},
     "output_type": "execute_result"
    }
   ],
   "source": [
    "\"\"\"\n",
    "Q6. Why is it important to understand the level of measurement when analyzing data?\n",
    "Ans -> Whenever we require to clean data or have to plot visual at that time we need the \n",
    "understanding of the level of measurement.\n",
    "\"\"\""
   ]
  },
  {
   "cell_type": "code",
   "execution_count": 7,
   "id": "1c8f63f3-ee0d-4fc4-b0e8-b7db90194918",
   "metadata": {},
   "outputs": [
    {
     "data": {
      "text/plain": [
       "'\\nQ7. How nominal data type is different from ordinal data type.\\nAns- Nominal data can not be arranged in a order but ordinal data can be . \\n'"
      ]
     },
     "execution_count": 7,
     "metadata": {},
     "output_type": "execute_result"
    }
   ],
   "source": [
    "\"\"\"\n",
    "Q7. How nominal data type is different from ordinal data type.\n",
    "Ans- Nominal data can not be arranged in a order but ordinal data can be . \n",
    "\"\"\""
   ]
  },
  {
   "cell_type": "code",
   "execution_count": 8,
   "id": "47471654-4633-4418-9cb2-d7ce1e83428e",
   "metadata": {},
   "outputs": [
    {
     "data": {
      "text/plain": [
       "'\\nQ8. Which type of plot can be used to display data in terms of range?\\nAns -> Box plot is used to display data in terms of range.\\n'"
      ]
     },
     "execution_count": 8,
     "metadata": {},
     "output_type": "execute_result"
    }
   ],
   "source": [
    "\"\"\"\n",
    "Q8. Which type of plot can be used to display data in terms of range?\n",
    "Ans -> Box plot is used to display data in terms of range.\n",
    "\"\"\""
   ]
  },
  {
   "cell_type": "code",
   "execution_count": 9,
   "id": "449cac82-2cae-44a6-a0a7-9b09a063954a",
   "metadata": {},
   "outputs": [
    {
     "data": {
      "text/plain": [
       "'\\nDescribe the difference between descriptive and inferential statistics. Give an example of each \\ntype of statistics and explain how they are used.\\nAns-> Descriptive statistics summarize data, providing straightforward information about the dataset itself (e.g., mean, median). Inferential statistics, on the other hand, make predictions or draw conclusions about a population based on sample data, using probability theory (e.g., hypothesis testing, regression analysis).\\n'"
      ]
     },
     "execution_count": 9,
     "metadata": {},
     "output_type": "execute_result"
    }
   ],
   "source": [
    "\"\"\"\n",
    "Describe the difference between descriptive and inferential statistics. Give an example of each \n",
    "type of statistics and explain how they are used.\n",
    "Ans-> Descriptive statistics summarize data, providing straightforward information about the dataset itself (e.g., mean, median). Inferential statistics, on the other hand, make predictions or draw conclusions about a population based on sample data, using probability theory (e.g., hypothesis testing, regression analysis).\n",
    "\"\"\""
   ]
  },
  {
   "cell_type": "code",
   "execution_count": 10,
   "id": "db1e4c45-a303-4f0c-b488-d51d1b8b597f",
   "metadata": {},
   "outputs": [
    {
     "data": {
      "text/plain": [
       "'\\nQ10. What are some common measures of central tendency and variability used in statistics? Explain \\nhow each measure can be used to describe a dataset.\\nAns->Measures of central tendency:\\n1. Mean: Average value, sensitive to outliers.\\n2. Median: Middle value, less affected by outliers.\\n\\nMeasures of variability:\\n1. Range: Difference between the maximum and minimum values.\\n2. Variance: Average of squared deviations from the mean.\\n3. Standard Deviation: Square root of the variance, measures spread around the mean.\\n'"
      ]
     },
     "execution_count": 10,
     "metadata": {},
     "output_type": "execute_result"
    }
   ],
   "source": [
    "\"\"\"\n",
    "Q10. What are some common measures of central tendency and variability used in statistics? Explain \n",
    "how each measure can be used to describe a dataset.\n",
    "Ans->Measures of central tendency:\n",
    "1. Mean: Average value, sensitive to outliers.\n",
    "2. Median: Middle value, less affected by outliers.\n",
    "\n",
    "Measures of variability:\n",
    "1. Range: Difference between the maximum and minimum values.\n",
    "2. Variance: Average of squared deviations from the mean.\n",
    "3. Standard Deviation: Square root of the variance, measures spread around the mean.\n",
    "\"\"\""
   ]
  },
  {
   "cell_type": "code",
   "execution_count": null,
   "id": "a0c6cba8-2097-4172-975f-5b174429a7f2",
   "metadata": {},
   "outputs": [],
   "source": []
  }
 ],
 "metadata": {
  "kernelspec": {
   "display_name": "Python 3 (ipykernel)",
   "language": "python",
   "name": "python3"
  },
  "language_info": {
   "codemirror_mode": {
    "name": "ipython",
    "version": 3
   },
   "file_extension": ".py",
   "mimetype": "text/x-python",
   "name": "python",
   "nbconvert_exporter": "python",
   "pygments_lexer": "ipython3",
   "version": "3.10.8"
  }
 },
 "nbformat": 4,
 "nbformat_minor": 5
}
